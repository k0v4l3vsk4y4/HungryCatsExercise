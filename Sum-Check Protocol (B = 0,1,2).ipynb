{
 "cells": [
  {
   "cell_type": "markdown",
   "id": "dee843b4-4d7b-4502-bbf7-8f1b4a83305e",
   "metadata": {},
   "source": [
    "# Sum-Check Protocol (B = 0,1,2)\n"
   ]
  },
  {
   "cell_type": "markdown",
   "id": "9973a0d6",
   "metadata": {},
   "source": [
    "To work with polynomials of several variables, we declare the polynomial ring and the variables first."
   ]
  },
  {
   "cell_type": "code",
   "execution_count": 27,
   "id": "fb688f28",
   "metadata": {
    "tags": []
   },
   "outputs": [
    {
     "name": "stdout",
     "output_type": "stream",
     "text": [
      "Defining x0, x1, x2, x3\n"
     ]
    },
    {
     "data": {
      "text/plain": [
       "Multivariate Polynomial Ring in x0, x1, x2, x3 over Finite Field of size 5"
      ]
     },
     "execution_count": 27,
     "metadata": {},
     "output_type": "execute_result"
    }
   ],
   "source": [
    "numVar = 4\n",
    "x = vector([var('x{}'.format(i)) for i in range(numVar)])\n",
    "R = PolynomialRing(GF(100), 'x', numVar)\n",
    "R.inject_variables()\n",
    "R"
   ]
  },
  {
   "cell_type": "markdown",
   "id": "19e8dbb3",
   "metadata": {},
   "source": [
    "Now, give me a polynomial with $v$ variables, denote it $g$  \n",
    "*Example: To define $g(x_0,x_1,x_2) = 2x_0^3+x_0x_2+x_1x_2$* write \"g = 2\\*x0^3+x0\\*x1+x1\\*x2\"\n"
   ]
  },
  {
   "cell_type": "code",
   "execution_count": 28,
   "id": "ac9f7387",
   "metadata": {
    "tags": []
   },
   "outputs": [
    {
     "name": "stdout",
     "output_type": "stream",
     "text": [
      "g = 2*x0^3 + x3^3 + x0*x2 + x1*x2\n"
     ]
    }
   ],
   "source": [
    "g = 2*x0^3+x0*x2+x1*x2+x3^3\n",
    "print(\"g = \" + str(g))"
   ]
  },
  {
   "cell_type": "markdown",
   "id": "6d85967e",
   "metadata": {},
   "source": [
    "The sum of g’s evaluations over the Boolean hypercube is "
   ]
  },
  {
   "cell_type": "code",
   "execution_count": 31,
   "id": "e7f4cf9a",
   "metadata": {
    "tags": []
   },
   "outputs": [
    {
     "name": "stdout",
     "output_type": "stream",
     "text": [
      "H = 1\n"
     ]
    }
   ],
   "source": [
    "bits = [0, 1, 2]  \n",
    "comb = cartesian_product([bits]*numVar)  # The cartesion product of (0,1),...,(0,1) (v times) is the conjunt of all possibles combinations \n",
    "comb = [vector(i) for i in comb] # Convert to vectors\n",
    "H=0\n",
    "for i in comb:\n",
    "    H= H+g(*i)   \n",
    "    \n",
    "print (\"H = \" + str(H))"
   ]
  },
  {
   "cell_type": "code",
   "execution_count": 33,
   "id": "94a291ef",
   "metadata": {
    "tags": []
   },
   "outputs": [
    {
     "name": "stdout",
     "output_type": "stream",
     "text": [
      "P: s1 = -x0^3 + 2*x0 - 2\n",
      "V: Correct. r1 = 10 has been generated and sent\n",
      "P: s2 = -x0 + 2\n",
      "V: Correct. r2 = 4 has been generated and sent\n",
      "P: s3 = 2*x0 - 1\n",
      "V: Correct. r3 = 7 has been generated and sent\n",
      "P: s4 = x0^3 - 2\n",
      "V: Correct. r4 = 9 has been generated and sent\n",
      "V: Correct.  Verified.\n"
     ]
    }
   ],
   "source": [
    "roundNum = 0\n",
    "r = []\n",
    "s = 0\n",
    "stop = 0\n",
    "while(roundNum < numVar):\n",
    "    roundNum = roundNum +1\n",
    "    \n",
    "    sOld = s # This variable is for save the polinomial for the next round\n",
    "    s = 0 # This variable is for save the polinomial of this round\n",
    "\n",
    "    comb = cartesian_product([bits]*(numVar-roundNum))  # The cartesion product of (0,1),...,(0,1) (v times) is the conjunt of all possibles combinations \n",
    "    comb = [vector(i) for i in comb] # Convert to vectors\n",
    "\n",
    "    for i in comb:\n",
    "        i = list([x0])+list(i) # Generate the vectors (x,0,...,0), (x,0,...,1),...,(x,1,...,1) \n",
    "        i = r + i # Generate the vectors (r1,...,rn,x,0,...,0), (r1,...,rn,x,0,...,1),...,(r1,...,rn,x,1,...,1)\n",
    "        s = s + g(*i) # Compute the sum of g's\n",
    "        \n",
    "    print(\"P: s\"+str(roundNum) + \" = \" + str(s)) \n",
    "    \n",
    "    # The verifier checks the equality\n",
    "    result = s.subs(x0=0)+s.subs(x0=1) +s.subs(x0=2) \n",
    "    \n",
    "    if roundNum == 1: \n",
    "        R = H # For round = 1 the verifier compare the result with H\n",
    "    else:\n",
    "        #print(rValue)\n",
    "        R = sOld.subs(x0=rValue[0]) # For round != 1 the verifier compare the result with the polinomial of the previous round evaluated on the random value\n",
    "    \n",
    "    # The verifier makes their decision\n",
    "    if result == R:\n",
    "        rValue = [randint(1,10)] # Generate random (comment this line and uncomment the next three for get the book's example)\n",
    "        #if roundNum == 1 : rValue = [2]\n",
    "        #if roundNum == 2 : rValue = [3]\n",
    "        #if roundNum == 3 : rValue = [6]\n",
    "        r = r + rValue\n",
    "        sOld = s\n",
    "        \n",
    "        print (\"V: Correct. r\" + str(roundNum) +\" = \" + str(rValue[0]) + \" has been generated and sent\")\n",
    "    else:\n",
    "        print(\"V: Incorrect. STOP PROTOCOL\")\n",
    "        roundNum = numVar\n",
    "        stop = 1\n",
    "\n",
    "# The verifier makes the final check\n",
    "if stop == 0:\n",
    "    result = g(*r)\n",
    "    if result == s.subs(x0=rValue[0]):\n",
    "        print (\"V: Correct.  Verified.\")\n",
    "    else:\n",
    "        print(\"V: Incorrect. STOP PROTOCOL\")    \n",
    "\n"
   ]
  },
  {
   "cell_type": "code",
   "execution_count": null,
   "id": "9e26240e",
   "metadata": {},
   "outputs": [],
   "source": []
  },
  {
   "cell_type": "code",
   "execution_count": null,
   "id": "901dca00",
   "metadata": {},
   "outputs": [],
   "source": []
  }
 ],
 "metadata": {
  "kernelspec": {
   "display_name": "SageMath 9.8",
   "language": "sage",
   "name": "sagemath-9.8"
  },
  "language_info": {
   "codemirror_mode": {
    "name": "ipython",
    "version": 3
   },
   "file_extension": ".py",
   "mimetype": "text/x-python",
   "name": "python",
   "nbconvert_exporter": "python",
   "pygments_lexer": "ipython3",
   "version": "3.11.1"
  }
 },
 "nbformat": 4,
 "nbformat_minor": 5
}

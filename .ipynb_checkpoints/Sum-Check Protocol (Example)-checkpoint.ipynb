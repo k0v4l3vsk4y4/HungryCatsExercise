{
 "cells": [
  {
   "cell_type": "markdown",
   "id": "e230eb9f",
   "metadata": {},
   "source": [
    "# Sum-Check Protocol (Example)\n"
   ]
  },
  {
   "cell_type": "markdown",
   "id": "9973a0d6",
   "metadata": {},
   "source": [
    "To work with polynomials of several variables, we declare the polynomial ring and the variables first."
   ]
  },
  {
   "cell_type": "code",
   "execution_count": 1,
   "id": "fb688f28",
   "metadata": {},
   "outputs": [
    {
     "data": {
      "text/plain": [
       "Multivariate Polynomial Ring in x0, x1, x2 over Rational Field"
      ]
     },
     "execution_count": 1,
     "metadata": {},
     "output_type": "execute_result"
    }
   ],
   "source": [
    "R.<x0,x1,x2> = PolynomialRing(QQ) \n",
    "numVar = 3\n",
    "R"
   ]
  },
  {
   "cell_type": "markdown",
   "id": "19e8dbb3",
   "metadata": {},
   "source": [
    "Now, give me a polynomial with $v$ variables, denote it $g$  \n",
    "*Example: To define $g(x_0,x_1,x_2) = 2x_0^3+x_0x_2+x_1x_2$* write \"g = 2*x0^3+x0*x1+x1*x2\"\n"
   ]
  },
  {
   "cell_type": "code",
   "execution_count": 2,
   "id": "ac9f7387",
   "metadata": {},
   "outputs": [
    {
     "name": "stdout",
     "output_type": "stream",
     "text": [
      "g = 2*x0^3 + x0*x2 + x1*x2\n"
     ]
    }
   ],
   "source": [
    "g = 2*x0^3+x0*x2+x1*x2\n",
    "print(\"g = \" + str(g))"
   ]
  },
  {
   "cell_type": "markdown",
   "id": "6d85967e",
   "metadata": {},
   "source": [
    "The sum of g’s evaluations over the Boolean hypercube is "
   ]
  },
  {
   "cell_type": "code",
   "execution_count": 3,
   "id": "e7f4cf9a",
   "metadata": {},
   "outputs": [
    {
     "name": "stdout",
     "output_type": "stream",
     "text": [
      "H = 12\n"
     ]
    }
   ],
   "source": [
    "bits = [0, 1]  \n",
    "comb = cartesian_product([bits]*numVar)  # The cartesion product of (0,1),...,(0,1) (v times) is the conjunt of all possibles combinations \n",
    "comb = [vector(i) for i in comb] # Convert to vectors\n",
    "H=0\n",
    "for i in comb:\n",
    "    H= H+g(*i)\n",
    "    \n",
    "print (\"H = \" + str(H))"
   ]
  },
  {
   "cell_type": "markdown",
   "id": "044d627b",
   "metadata": {},
   "source": [
    "The prover compute $s_1(x_0)$. Then, they send it to the verifier."
   ]
  },
  {
   "cell_type": "code",
   "execution_count": 4,
   "id": "94a291ef",
   "metadata": {},
   "outputs": [
    {
     "name": "stdout",
     "output_type": "stream",
     "text": [
      "P: s1 = 8*x0^3 + 2*x0 + 1\n"
     ]
    }
   ],
   "source": [
    "comb = cartesian_product([bits]*(numVar-1)) # The cartesion product of (0,1),...,(0,1) (v times) is the conjunt of all possibles combinations\n",
    "comb = [vector(i) for i in comb] # Convert to vectors\n",
    "\n",
    "s1 = 0\n",
    "for i in comb:\n",
    "    i = list([x0])+list(i) # Generate the vector (x0,0,0), (x0,0,1), (x0,1,0), ...\n",
    "    s1 = s1 + g(*i) # Sum of g's over the Boolean hypercube\n",
    "print(\"P: s1 = \" + str(s1))"
   ]
  },
  {
   "cell_type": "markdown",
   "id": "99924d51",
   "metadata": {},
   "source": [
    "The verifier checks that $s_1 (0) + s_1 (1) = H$. If the the equality is satisfied, then the verifier generate a random value $r_1$ and send it to the prover."
   ]
  },
  {
   "cell_type": "code",
   "execution_count": 5,
   "id": "1d174703",
   "metadata": {},
   "outputs": [
    {
     "name": "stdout",
     "output_type": "stream",
     "text": [
      "V: Correct. r1 = 2 has been generated and sent\n"
     ]
    }
   ],
   "source": [
    "result = s1.subs(x0=0)+s1.subs(x0=1)\n",
    "if result == H:\n",
    "    r1 = 2\n",
    "    #r1 = randint(1,100)\n",
    "    print (\"V: Correct. r1 = \" + str(r1) + \" has been generated and sent\")\n",
    "else:\n",
    "    print(\"V: Incorrect. STOP PROTOCOL\")"
   ]
  },
  {
   "cell_type": "markdown",
   "id": "86b51fc2",
   "metadata": {},
   "source": [
    "The honest prover receive $r_1$ and compute $s_2$."
   ]
  },
  {
   "cell_type": "code",
   "execution_count": 6,
   "id": "f836ed42",
   "metadata": {},
   "outputs": [
    {
     "name": "stdout",
     "output_type": "stream",
     "text": [
      "P: s2 = x1 + 34\n"
     ]
    }
   ],
   "source": [
    "comb = cartesian_product([bits]*(numVar-2)) \n",
    "comb = [vector(i) for i in comb] \n",
    "\n",
    "s2 = 0\n",
    "for i in comb:\n",
    "    i = list([r1,x1])+list(i)\n",
    "    s2 = s2 + g(*i)\n",
    "\n",
    "print(\"P: s2 = \" + str(s2))"
   ]
  },
  {
   "cell_type": "markdown",
   "id": "5a8d33f3",
   "metadata": {},
   "source": [
    "The verifier checks that $s_2 (0) + s_2 (1) = s_1 (r_1)$. If the equality is satisfied, then the verifier generate a random value $r_2$ and send it to the prover."
   ]
  },
  {
   "cell_type": "code",
   "execution_count": 7,
   "id": "7e652570",
   "metadata": {},
   "outputs": [
    {
     "name": "stdout",
     "output_type": "stream",
     "text": [
      "V: Correct. r2 = 3 has been generated and sent\n"
     ]
    }
   ],
   "source": [
    "result = s2.subs(x1=0)+s2.subs(x1=1)\n",
    "\n",
    "if result == s1.subs(x0=r1):\n",
    "    r2 = 3\n",
    "    #r2 = randint(1,100)\n",
    "    print (\"V: Correct. r2 = \" + str(r2) + \" has been generated and sent\")\n",
    "else:\n",
    "    print(\"V: Incorrect. STOP PROTOCOL\")\n"
   ]
  },
  {
   "cell_type": "markdown",
   "id": "d27ba350",
   "metadata": {},
   "source": [
    "The honest prover receive $r_2$ and compute $s_3$."
   ]
  },
  {
   "cell_type": "code",
   "execution_count": 8,
   "id": "2660c85c",
   "metadata": {},
   "outputs": [
    {
     "name": "stdout",
     "output_type": "stream",
     "text": [
      "P: s3 = 5*x2 + 16\n"
     ]
    }
   ],
   "source": [
    "s3 = 0\n",
    "for i in comb:\n",
    "    i = list([r1,r2,x2])\n",
    "    s3 = g(*i)\n",
    "\n",
    "print(\"P: s3 = \" + str(s3))"
   ]
  },
  {
   "cell_type": "markdown",
   "id": "58fe9865",
   "metadata": {},
   "source": [
    "The verifier checks that $s_3 (0) + s_3 (1) = s_2 (r_2)$. If the equality is satisfied, then the verifier generate a random value $r_3$."
   ]
  },
  {
   "cell_type": "code",
   "execution_count": 9,
   "id": "1c81b6b5",
   "metadata": {},
   "outputs": [
    {
     "name": "stdout",
     "output_type": "stream",
     "text": [
      "V: Correct. r3 = 6 has been generated and sent\n"
     ]
    }
   ],
   "source": [
    "result = s3.subs(x2=0)+s3.subs(x2=1)\n",
    "\n",
    "if result == s2.subs(x1=r2):\n",
    "    r3 = 6\n",
    "    #r3 = randint(1,100)\n",
    "    print (\"V: Correct. r3 = \" + str(r3) + \" has been generated and sent\")\n",
    "else:\n",
    "    print(\"V: Incorrect. STOP PROTOCOL\")"
   ]
  },
  {
   "cell_type": "markdown",
   "id": "1d2ada4e",
   "metadata": {},
   "source": [
    "The verifier checks that $g(r_1,r_2,r_3) = s_3 (r_3)$. "
   ]
  },
  {
   "cell_type": "code",
   "execution_count": 10,
   "id": "04850aae",
   "metadata": {},
   "outputs": [
    {
     "name": "stdout",
     "output_type": "stream",
     "text": [
      "V: Correct.  Verified.\n"
     ]
    }
   ],
   "source": [
    "result = g(r1,r2,r3)\n",
    "if result == s3.subs(x2=r3):\n",
    "    r3 = 6\n",
    "    #r3 = randint(1,100)\n",
    "    print (\"V: Correct.  Verified.\")\n",
    "else:\n",
    "    print(\"V: Incorrect. STOP PROTOCOL\")"
   ]
  },
  {
   "cell_type": "code",
   "execution_count": null,
   "id": "f6a32370",
   "metadata": {},
   "outputs": [],
   "source": []
  },
  {
   "cell_type": "code",
   "execution_count": null,
   "id": "933187d3",
   "metadata": {},
   "outputs": [],
   "source": []
  }
 ],
 "metadata": {
  "kernelspec": {
   "display_name": "SageMath 9.8",
   "language": "sage",
   "name": "sagemath-9.8"
  },
  "language_info": {
   "codemirror_mode": {
    "name": "ipython",
    "version": 3
   },
   "file_extension": ".py",
   "mimetype": "text/x-python",
   "name": "python",
   "nbconvert_exporter": "python",
   "pygments_lexer": "ipython3",
   "version": "3.11.1"
  }
 },
 "nbformat": 4,
 "nbformat_minor": 5
}
